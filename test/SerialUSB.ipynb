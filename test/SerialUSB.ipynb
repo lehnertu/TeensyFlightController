{
 "cells": [
  {
   "cell_type": "code",
   "execution_count": 1,
   "metadata": {
    "scrolled": true
   },
   "outputs": [
    {
     "name": "stdout",
     "output_type": "stream",
     "text": [
      "Bus 002 Device 001: ID 1d6b:0003 Linux Foundation 3.0 root hub\r\n",
      "Bus 001 Device 107: ID 0403:6001 Future Technology Devices International, Ltd FT232 Serial (UART) IC\r\n",
      "Bus 001 Device 006: ID 8087:07dc Intel Corp. \r\n",
      "Bus 001 Device 004: ID 1199:9041 Sierra Wireless, Inc. \r\n",
      "Bus 001 Device 009: ID 0b97:7772 O2 Micro, Inc. OZ776 CCID Smartcard Reader\r\n",
      "Bus 001 Device 008: ID 0b97:7761 O2 Micro, Inc. Oz776 1.1 Hub\r\n",
      "Bus 001 Device 007: ID 138a:0050 Validity Sensors, Inc. Swipe Fingerprint Sensor\r\n",
      "Bus 001 Device 005: ID 04f2:b413 Chicony Electronics Co., Ltd \r\n",
      "Bus 001 Device 003: ID 04b4:6570 Cypress Semiconductor Corp. \r\n",
      "Bus 001 Device 002: ID 046d:c534 Logitech, Inc. Unifying Receiver\r\n",
      "Bus 001 Device 001: ID 1d6b:0002 Linux Foundation 2.0 root hub\r\n"
     ]
    }
   ],
   "source": [
    "!lsusb"
   ]
  },
  {
   "cell_type": "code",
   "execution_count": 2,
   "metadata": {},
   "outputs": [
    {
     "name": "stdout",
     "output_type": "stream",
     "text": [
      "crw-rw-rw- 1 root dialout 188, 0 Sep 18 11:20 /dev/ttyUSB0\r\n"
     ]
    }
   ],
   "source": [
    "!ls -l /dev/ttyUSB*"
   ]
  },
  {
   "cell_type": "code",
   "execution_count": 3,
   "metadata": {},
   "outputs": [
    {
     "name": "stdout",
     "output_type": "stream",
     "text": [
      "SUBSYSTEMS==\"usb\", ATTRS{idVendor}==\"067b\", ATTRS{idProduct}==\"2303\", MODE:=\"0666\"\r\n"
     ]
    }
   ],
   "source": [
    "!cat /etc/udev/rules.d/55-usb_serial.rules"
   ]
  },
  {
   "cell_type": "code",
   "execution_count": 6,
   "metadata": {},
   "outputs": [
    {
     "name": "stdout",
     "output_type": "stream",
     "text": [
      "Collecting pyserial\n",
      "  Using cached pyserial-3.5-py2.py3-none-any.whl (90 kB)\n",
      "Installing collected packages: pyserial\n",
      "Successfully installed pyserial-3.5\n",
      "\u001b[33mWARNING: You are using pip version 20.3.3; however, version 22.0.3 is available.\n",
      "You should consider upgrading via the '/usr/bin/python3 -m pip install --upgrade pip' command.\u001b[0m\n",
      "Note: you may need to restart the kernel to use updated packages.\n"
     ]
    }
   ],
   "source": [
    "#  %pip install --user pyserial"
   ]
  },
  {
   "cell_type": "code",
   "execution_count": 1,
   "metadata": {},
   "outputs": [],
   "source": [
    "import serial"
   ]
  },
  {
   "cell_type": "markdown",
   "metadata": {},
   "source": [
    "## read the configuration registers"
   ]
  },
  {
   "cell_type": "code",
   "execution_count": 3,
   "metadata": {},
   "outputs": [
    {
     "name": "stdout",
     "output_type": "stream",
     "text": [
      "/dev/ttyUSB0\n",
      "0.5\n",
      "\n"
     ]
    }
   ],
   "source": [
    "ser = serial.Serial('/dev/ttyUSB0',timeout=0.5)  # open serial port\n",
    "print(ser.name)         # check which port was really used\n",
    "print(ser.timeout)\n",
    "ser.write(b'\\xC1\\x00\\x05')     # write a string\n",
    "# read the response\n",
    "response = ser.read(size=10)\n",
    "print(response.hex())\n",
    "ser.close()             # close port"
   ]
  },
  {
   "cell_type": "markdown",
   "metadata": {},
   "source": [
    "## write the configuration (persistent)"
   ]
  },
  {
   "cell_type": "code",
   "execution_count": 16,
   "metadata": {},
   "outputs": [
    {
     "name": "stdout",
     "output_type": "stream",
     "text": [
      "/dev/ttyUSB0\n",
      "0.5\n",
      "\n"
     ]
    }
   ],
   "source": [
    "ser = serial.Serial('/dev/ttyUSB0',timeout=0.5)  # open serial port\n",
    "print(ser.name)         # check which port was really used\n",
    "print(ser.timeout)\n",
    "# address = 00 00\n",
    "# mode = 64 : 9600,8N1 air9.6k\n",
    "# reg1 = 00\n",
    "# freq = 12 : ch18=868.125 MHz\n",
    "ser.write(b'\\xC0\\x00\\x05\\x00\\x00\\x64\\x00\\x12')     # command\n",
    "# read the response\n",
    "response = ser.read(size=10)\n",
    "print(response.hex())\n",
    "ser.close()             # close port"
   ]
  },
  {
   "cell_type": "markdown",
   "metadata": {},
   "source": [
    "## write to one module, read from the other\n",
    "(pull M0,M1 low for normal transmission mode)"
   ]
  },
  {
   "cell_type": "code",
   "execution_count": 4,
   "metadata": {},
   "outputs": [
    {
     "name": "stdout",
     "output_type": "stream",
     "text": [
      "/dev/ttyUSB0\n",
      "0.5\n"
     ]
    },
    {
     "ename": "TypeError",
     "evalue": "hex() takes no arguments (1 given)",
     "output_type": "error",
     "traceback": [
      "\u001b[0;31m---------------------------------------------------------------------------\u001b[0m",
      "\u001b[0;31mTypeError\u001b[0m                                 Traceback (most recent call last)",
      "\u001b[0;32m<ipython-input-4-c2dae09a81ce>\u001b[0m in \u001b[0;36m<module>\u001b[0;34m\u001b[0m\n\u001b[1;32m      5\u001b[0m \u001b[0;31m# read the response\u001b[0m\u001b[0;34m\u001b[0m\u001b[0;34m\u001b[0m\u001b[0;34m\u001b[0m\u001b[0m\n\u001b[1;32m      6\u001b[0m \u001b[0mresponse\u001b[0m \u001b[0;34m=\u001b[0m \u001b[0mser\u001b[0m\u001b[0;34m.\u001b[0m\u001b[0mread\u001b[0m\u001b[0;34m(\u001b[0m\u001b[0msize\u001b[0m\u001b[0;34m=\u001b[0m\u001b[0;36m10\u001b[0m\u001b[0;34m)\u001b[0m\u001b[0;34m\u001b[0m\u001b[0;34m\u001b[0m\u001b[0m\n\u001b[0;32m----> 7\u001b[0;31m \u001b[0mprint\u001b[0m\u001b[0;34m(\u001b[0m\u001b[0mresponse\u001b[0m\u001b[0;34m.\u001b[0m\u001b[0mhex\u001b[0m\u001b[0;34m(\u001b[0m\u001b[0;34m':'\u001b[0m\u001b[0;34m)\u001b[0m\u001b[0;34m)\u001b[0m\u001b[0;34m\u001b[0m\u001b[0;34m\u001b[0m\u001b[0m\n\u001b[0m\u001b[1;32m      8\u001b[0m \u001b[0mprint\u001b[0m\u001b[0;34m(\u001b[0m\u001b[0mresponse\u001b[0m\u001b[0;34m)\u001b[0m\u001b[0;34m\u001b[0m\u001b[0;34m\u001b[0m\u001b[0m\n\u001b[1;32m      9\u001b[0m \u001b[0mser\u001b[0m\u001b[0;34m.\u001b[0m\u001b[0mclose\u001b[0m\u001b[0;34m(\u001b[0m\u001b[0;34m)\u001b[0m\u001b[0;34m\u001b[0m\u001b[0;34m\u001b[0m\u001b[0m\n",
      "\u001b[0;31mTypeError\u001b[0m: hex() takes no arguments (1 given)"
     ]
    }
   ],
   "source": [
    "ser = serial.Serial('/dev/ttyUSB0',timeout=0.5)  # open serial port\n",
    "print(ser.name)         # check which port was really used\n",
    "print(ser.timeout)\n",
    "ser.write(b'hello!')     # write a string\n",
    "# read the response\n",
    "response = ser.read(size=10)\n",
    "print(response.hex(':'))\n",
    "print(response)\n",
    "ser.close()   "
   ]
  },
  {
   "cell_type": "markdown",
   "metadata": {},
   "source": [
    "## receive and print\n",
    "(pull M0,M1 low for normal transmission mode)"
   ]
  },
  {
   "cell_type": "code",
   "execution_count": 5,
   "metadata": {},
   "outputs": [
    {
     "name": "stdout",
     "output_type": "stream",
     "text": [
      "/dev/ttyUSB0\n",
      "0.1\n",
      "\n",
      "receiver stopped.\n"
     ]
    }
   ],
   "source": [
    "# the groundstation modems are configured for a serial rate of 115200 baud\n",
    "# over-the-air rate is still 9600 baud\n",
    "# there is one additional character received - the RSI\n",
    "ser = serial.Serial('/dev/ttyUSB0', baudrate=115200, timeout=0.1)  # open serial port\n",
    "print(ser.name)         # check which port was really used\n",
    "print(ser.timeout)\n",
    "print()\n",
    "list_of_messages = []\n",
    "stream_log = b''\n",
    "global_timeout = 0\n",
    "# we stop when we have nothing received for 100 cycles á 0.1s\n",
    "while global_timeout<100:\n",
    "    global_timeout += 1\n",
    "    # read the response\n",
    "    response = ser.read(size=200)\n",
    "    stream_log += response\n",
    "    if len(response) > 0:\n",
    "        list_of_messages.append(response)\n",
    "        line = \"\"\n",
    "        for c in response:\n",
    "            line += (\" %0.2X\" % c)\n",
    "        print(line)\n",
    "        print(response)\n",
    "        print()\n",
    "        global_timeout = 0\n",
    "\n",
    "ser.close()\n",
    "print('receiver stopped.')"
   ]
  },
  {
   "cell_type": "code",
   "execution_count": 8,
   "metadata": {},
   "outputs": [
    {
     "data": {
      "text/plain": [
       "b'\\xcc\\x81\\x1eSYSTEM  \\x03\\x91\\x01\\x00\\x00systick overrun !\\xfd'"
      ]
     },
     "execution_count": 8,
     "metadata": {},
     "output_type": "execute_result"
    }
   ],
   "source": [
    "msg=list_of_messages[6]\n",
    "msg"
   ]
  },
  {
   "cell_type": "markdown",
   "metadata": {},
   "source": [
    "### write the logged stream to file"
   ]
  },
  {
   "cell_type": "code",
   "execution_count": 41,
   "metadata": {},
   "outputs": [
    {
     "name": "stdout",
     "output_type": "stream",
     "text": [
      "b'TAROS : MODEM_1 up and running.\\r\\n\\xfd\\xcc\\x813SYSTEM  \\x05\\x00\\x00\\x00\\x00Teensy Flight Controller - Version 1.0\\xfd\\xcc\\x81\\x1cUSB_1   \\x05\\x00\\x00\\x00\\x00up and running.\\xfd\\xcc\\x81\\x1cSYSTEM  \\x05\\x00\\x00\\x00\\x00build complete.\\xfd\\xcc\\x81!SYSTEM  \\x05\\x00\\x00\\x00\\x00entering event loop.\\xfd\\xcc\\x81\\x1cGPS_1   \\x05\\x91\\x01\\x00\\x00up and running.\\xfd\\xcc\\x81\\x1eSYSTEM  \\x03\\x91\\x01\\x00\\x00systick overrun !\\xfd\\xcc\\x81\\x19DISPLAY \\n\\x88\\x05\\x00\\x00initialized.\\xfd\\xcc\\x81\\x1eSYSTEM  \\x03\\x88\\x05\\x00\\x00systick overrun !\\xfdping\\r\\n\\xfd\\xcc\\x82\\x08GPS_1   \\xfc\\xcc\\x81\\x1bGPS_1   \\n\\x89\\x13\\x00\\x00acquired lock.\\xfdping\\r\\n\\xfdping\\r\\n\\xfc\\xcc\\x82\\x08GPS_1   \\xfcping\\r\\n\\xf3'\n"
     ]
    }
   ],
   "source": [
    "print(stream_log)"
   ]
  },
  {
   "cell_type": "code",
   "execution_count": 45,
   "metadata": {},
   "outputs": [],
   "source": [
    "f = open('stream_log.dat', 'wb')\n",
    "f.write(stream_log)\n",
    "f.close()"
   ]
  },
  {
   "cell_type": "markdown",
   "metadata": {},
   "source": [
    "### handle and decode messages"
   ]
  },
  {
   "cell_type": "markdown",
   "metadata": {},
   "source": [
    "from struct import *\n",
    "\n",
    "msb, lsb, n_bytes, level = unpack('BBBxxxxxxxxB', msg[:12])\n",
    "sender = msg[3:11].decode(encoding='utf-8')\n",
    "time, = unpack('I', msg[12:16])\n",
    "text = msg[16:n_bytes+3].decode(encoding='utf-8')\n",
    "rsi = msg[n_bytes+3]\n",
    "print(msb)\n",
    "print(lsb)\n",
    "print(n_bytes)\n",
    "print(level)\n",
    "print(time)\n",
    "print(sender)\n",
    "print(text)\n",
    "print(rsi)"
   ]
  },
  {
   "cell_type": "code",
   "execution_count": 2,
   "metadata": {},
   "outputs": [],
   "source": [
    "import pandas as pd"
   ]
  },
  {
   "cell_type": "code",
   "execution_count": 8,
   "metadata": {},
   "outputs": [],
   "source": [
    "def format_time(t):\n",
    "    h = t//(1000*60*60)\n",
    "    ms = t-h*(1000*60*60)\n",
    "    m = ms//(1000*60)\n",
    "    ms = ms-m*(1000*60)\n",
    "    s = ms//1000\n",
    "    ms = ms-s*1000\n",
    "    return \"%02d:%02d:%02d.%03d\" % (h,m,s,ms)"
   ]
  },
  {
   "cell_type": "code",
   "execution_count": 19,
   "metadata": {},
   "outputs": [
    {
     "name": "stdout",
     "output_type": "stream",
     "text": [
      "  5 SYSTEM   00:00:00.000 Teensy Flight Controller - Version 1.0\n",
      "  5 USB_1    00:00:00.000 up and running.\n",
      "  5 SYSTEM   00:00:00.000 build complete.\n",
      "  5 SYSTEM   00:00:00.000 entering event loop.\n",
      "  5 GPS_1    00:00:00.401 up and running.\n",
      "  3 SYSTEM   00:00:00.401 systick overrun !\n",
      " 10 DISPLAY  00:00:01.416 initialized.\n",
      "  3 SYSTEM   00:00:01.416 systick overrun !\n",
      " 10 GPS_1    00:00:05.001 acquired lock.\n"
     ]
    }
   ],
   "source": [
    "sys_msg_list = []\n",
    "for msg in list_of_messages:\n",
    "    if len(msg)>=3:\n",
    "        msb, lsb, n_bytes = unpack('BBB', msg[:3])\n",
    "        # if it ihas a message header\n",
    "        if msb == 204:\n",
    "            # if it is a system message\n",
    "            if lsb == 129:\n",
    "                sender = msg[3:11].decode(encoding='utf-8')\n",
    "                level = msg[11]\n",
    "                time, = unpack('I', msg[12:16])\n",
    "                text = msg[16:n_bytes+3].decode(encoding='utf-8')\n",
    "                rsi = msg[n_bytes+3]\n",
    "                print(\"%3d\"%level, sender, format_time(time), text)\n",
    "                sys_msg_list.append([sender,level,time,text,rsi])"
   ]
  },
  {
   "cell_type": "code",
   "execution_count": 20,
   "metadata": {},
   "outputs": [
    {
     "data": {
      "text/html": [
       "<div>\n",
       "<style scoped>\n",
       "    .dataframe tbody tr th:only-of-type {\n",
       "        vertical-align: middle;\n",
       "    }\n",
       "\n",
       "    .dataframe tbody tr th {\n",
       "        vertical-align: top;\n",
       "    }\n",
       "\n",
       "    .dataframe thead th {\n",
       "        text-align: right;\n",
       "    }\n",
       "</style>\n",
       "<table border=\"1\" class=\"dataframe\">\n",
       "  <thead>\n",
       "    <tr style=\"text-align: right;\">\n",
       "      <th></th>\n",
       "      <th>sender</th>\n",
       "      <th>level</th>\n",
       "      <th>time</th>\n",
       "      <th>text</th>\n",
       "      <th>RSI</th>\n",
       "    </tr>\n",
       "  </thead>\n",
       "  <tbody>\n",
       "    <tr>\n",
       "      <th>0</th>\n",
       "      <td>SYSTEM</td>\n",
       "      <td>5</td>\n",
       "      <td>0</td>\n",
       "      <td>Teensy Flight Controller - Version 1.0</td>\n",
       "      <td>253</td>\n",
       "    </tr>\n",
       "    <tr>\n",
       "      <th>1</th>\n",
       "      <td>USB_1</td>\n",
       "      <td>5</td>\n",
       "      <td>0</td>\n",
       "      <td>up and running.</td>\n",
       "      <td>253</td>\n",
       "    </tr>\n",
       "    <tr>\n",
       "      <th>2</th>\n",
       "      <td>SYSTEM</td>\n",
       "      <td>5</td>\n",
       "      <td>0</td>\n",
       "      <td>build complete.</td>\n",
       "      <td>253</td>\n",
       "    </tr>\n",
       "    <tr>\n",
       "      <th>3</th>\n",
       "      <td>SYSTEM</td>\n",
       "      <td>5</td>\n",
       "      <td>0</td>\n",
       "      <td>entering event loop.</td>\n",
       "      <td>253</td>\n",
       "    </tr>\n",
       "    <tr>\n",
       "      <th>4</th>\n",
       "      <td>GPS_1</td>\n",
       "      <td>5</td>\n",
       "      <td>401</td>\n",
       "      <td>up and running.</td>\n",
       "      <td>253</td>\n",
       "    </tr>\n",
       "    <tr>\n",
       "      <th>5</th>\n",
       "      <td>SYSTEM</td>\n",
       "      <td>3</td>\n",
       "      <td>401</td>\n",
       "      <td>systick overrun !</td>\n",
       "      <td>253</td>\n",
       "    </tr>\n",
       "    <tr>\n",
       "      <th>6</th>\n",
       "      <td>DISPLAY</td>\n",
       "      <td>10</td>\n",
       "      <td>1416</td>\n",
       "      <td>initialized.</td>\n",
       "      <td>253</td>\n",
       "    </tr>\n",
       "    <tr>\n",
       "      <th>7</th>\n",
       "      <td>SYSTEM</td>\n",
       "      <td>3</td>\n",
       "      <td>1416</td>\n",
       "      <td>systick overrun !</td>\n",
       "      <td>253</td>\n",
       "    </tr>\n",
       "    <tr>\n",
       "      <th>8</th>\n",
       "      <td>GPS_1</td>\n",
       "      <td>10</td>\n",
       "      <td>5001</td>\n",
       "      <td>acquired lock.</td>\n",
       "      <td>253</td>\n",
       "    </tr>\n",
       "  </tbody>\n",
       "</table>\n",
       "</div>"
      ],
      "text/plain": [
       "     sender  level  time                                    text  RSI\n",
       "0  SYSTEM        5     0  Teensy Flight Controller - Version 1.0  253\n",
       "1  USB_1         5     0                         up and running.  253\n",
       "2  SYSTEM        5     0                         build complete.  253\n",
       "3  SYSTEM        5     0                    entering event loop.  253\n",
       "4  GPS_1         5   401                         up and running.  253\n",
       "5  SYSTEM        3   401                       systick overrun !  253\n",
       "6  DISPLAY      10  1416                            initialized.  253\n",
       "7  SYSTEM        3  1416                       systick overrun !  253\n",
       "8  GPS_1        10  5001                          acquired lock.  253"
      ]
     },
     "execution_count": 20,
     "metadata": {},
     "output_type": "execute_result"
    }
   ],
   "source": [
    "df = pd.DataFrame(sys_msg_list, columns = ['sender', 'level', 'time', 'text', 'RSI'])\n",
    "df"
   ]
  },
  {
   "cell_type": "code",
   "execution_count": 21,
   "metadata": {},
   "outputs": [
    {
     "data": {
      "text/html": [
       "<div>\n",
       "<style scoped>\n",
       "    .dataframe tbody tr th:only-of-type {\n",
       "        vertical-align: middle;\n",
       "    }\n",
       "\n",
       "    .dataframe tbody tr th {\n",
       "        vertical-align: top;\n",
       "    }\n",
       "\n",
       "    .dataframe thead th {\n",
       "        text-align: right;\n",
       "    }\n",
       "</style>\n",
       "<table border=\"1\" class=\"dataframe\">\n",
       "  <thead>\n",
       "    <tr style=\"text-align: right;\">\n",
       "      <th></th>\n",
       "      <th>sender</th>\n",
       "      <th>text</th>\n",
       "      <th>RSI</th>\n",
       "    </tr>\n",
       "  </thead>\n",
       "  <tbody>\n",
       "    <tr>\n",
       "      <th>0</th>\n",
       "      <td>GPS_1</td>\n",
       "      <td></td>\n",
       "      <td>253</td>\n",
       "    </tr>\n",
       "    <tr>\n",
       "      <th>1</th>\n",
       "      <td>GPS_1</td>\n",
       "      <td></td>\n",
       "      <td>253</td>\n",
       "    </tr>\n",
       "    <tr>\n",
       "      <th>2</th>\n",
       "      <td>GPS_1</td>\n",
       "      <td></td>\n",
       "      <td>253</td>\n",
       "    </tr>\n",
       "    <tr>\n",
       "      <th>3</th>\n",
       "      <td>GPS_1</td>\n",
       "      <td></td>\n",
       "      <td>243</td>\n",
       "    </tr>\n",
       "  </tbody>\n",
       "</table>\n",
       "</div>"
      ],
      "text/plain": [
       "     sender text  RSI\n",
       "0  GPS_1          253\n",
       "1  GPS_1          253\n",
       "2  GPS_1          253\n",
       "3  GPS_1          243"
      ]
     },
     "execution_count": 21,
     "metadata": {},
     "output_type": "execute_result"
    }
   ],
   "source": [
    "text_msg_list = []\n",
    "for msg in list_of_messages:\n",
    "    if len(msg)>=3:\n",
    "        msb, lsb, n_bytes = unpack('BBB', msg[:3])\n",
    "        # if it has a message header\n",
    "        if msb == 204:\n",
    "            # if it is a text message\n",
    "            if lsb == 130:\n",
    "                sender = msg[3:11].decode(encoding='utf-8')\n",
    "                text = msg[11:n_bytes+3].decode(encoding='utf-8')\n",
    "                rsi = msg[n_bytes+3]\n",
    "                text_msg_list.append([sender, text, rsi])\n",
    "df = pd.DataFrame(text_msg_list, columns = ['sender', 'text', 'RSI'])\n",
    "df"
   ]
  },
  {
   "cell_type": "markdown",
   "metadata": {},
   "source": [
    "### parse messages from stream"
   ]
  },
  {
   "cell_type": "code",
   "execution_count": 67,
   "metadata": {},
   "outputs": [
    {
     "name": "stdout",
     "output_type": "stream",
     "text": [
      "402\n",
      "110\n",
      "b'TAROS : MODEM_1 up and running.\\r\\n\\xfd\\xcc\\x813SYSTEM  \\x05\\x00\\x00\\x00\\x00Teensy Flight Controller - Version 1.0\\xfd\\xcc\\x81\\x1cUSB_1   \\x05\\x00\\x00\\x00\\x00up and running.\\xfd\\xcc\\x81\\x1cSYSTEM  \\x05\\x00\\x00\\x00\\x00build complete.\\xfd\\xcc\\x81!SYSTEM  \\x05\\x00\\x00\\x00\\x00entering event loop.\\xfd\\xcc\\x81\\x1cGPS_1   \\x05\\x91\\x01\\x00\\x00up and running.\\xfd\\xcc\\x81\\x1eSYSTEM  \\x03\\x91\\x01\\x00\\x00systick overrun !\\xfd\\xcc\\x81\\x19DISPLAY \\n\\x88\\x05\\x00\\x00initialized.\\xfd\\xcc\\x81\\x1eSYSTEM  \\x03\\x88\\x05\\x00\\x00systick overrun !\\xfdping\\r\\n\\xfd\\xcc\\x82\\x08GPS_1   \\xfc\\xcc\\x81\\x1bGPS_1   \\n\\x89\\x13\\x00\\x00acquired lock.\\xfdping\\r\\n\\xfdping\\r\\n\\xfc\\xcc\\x82\\x08GPS_1   \\xfcping\\r\\n\\xf3'\n"
     ]
    }
   ],
   "source": [
    "f = open('stream_log.dat', 'rb')\n",
    "buffer = f.read()\n",
    "f.close()\n",
    "\n",
    "print(len(buffer))\n",
    "print(buffer[20])\n",
    "print(buffer)"
   ]
  },
  {
   "cell_type": "code",
   "execution_count": 68,
   "metadata": {},
   "outputs": [
    {
     "name": "stdout",
     "output_type": "stream",
     "text": [
      "b'\\xcc'\n"
     ]
    }
   ],
   "source": [
    "print(b'\\xcc')"
   ]
  },
  {
   "cell_type": "code",
   "execution_count": 6,
   "metadata": {},
   "outputs": [],
   "source": [
    "from struct import *\n"
   ]
  },
  {
   "cell_type": "code",
   "execution_count": 9,
   "metadata": {},
   "outputs": [
    {
     "name": "stdout",
     "output_type": "stream",
     "text": [
      "402\n",
      "system message, length=51\n",
      "  5 SYSTEM   00:00:00.000 Teensy Flight Controller - Version 1.0\n",
      "system message, length=28\n",
      "  5 USB_1    00:00:00.000 up and running.\n",
      "system message, length=28\n",
      "  5 SYSTEM   00:00:00.000 build complete.\n",
      "system message, length=33\n",
      "  5 SYSTEM   00:00:00.000 entering event loop.\n",
      "system message, length=28\n",
      "  5 GPS_1    00:00:00.401 up and running.\n",
      "system message, length=30\n",
      "  3 SYSTEM   00:00:00.401 systick overrun !\n",
      "system message, length=25\n",
      " 10 DISPLAY  00:00:01.416 initialized.\n",
      "system message, length=30\n",
      "  3 SYSTEM   00:00:01.416 systick overrun !\n",
      "text message, length=8\n",
      "GPS_1    \n",
      "system message, length=27\n",
      " 10 GPS_1    00:00:05.001 acquired lock.\n",
      "text message, length=8\n",
      "GPS_1    \n"
     ]
    }
   ],
   "source": [
    "\n",
    "# in real world the buffer will be refilled with every received message\n",
    "f = open('stream_log.dat', 'rb')\n",
    "buffer = f.read()\n",
    "f.close()\n",
    "print(len(buffer))\n",
    "\n",
    "sys_msg_list = []\n",
    "text_msg_list = []\n",
    "\n",
    "while len(buffer) > 0:\n",
    "    next_index = 0\n",
    "    byte = buffer[0]\n",
    "    if byte != 0xcc:\n",
    "        # skip\n",
    "        buffer = buffer[1:]\n",
    "        continue\n",
    "    # here we have a potential message start\n",
    "    byte = buffer[1]\n",
    "    if byte == 0x81:\n",
    "        size = buffer[2]\n",
    "        print(\"system message, length=%d\" % size)\n",
    "        sender = buffer[3:11].decode(encoding='utf-8')\n",
    "        level = buffer[11]\n",
    "        time, = unpack('I', buffer[12:16])\n",
    "        text = buffer[16:size+3].decode(encoding='utf-8')\n",
    "        rsi = buffer[size+3]\n",
    "        print(\"%3d\"%level, sender, format_time(time), text)\n",
    "        sys_msg_list.append([sender,level,time,text,rsi])\n",
    "        next_index = 3 + size + 1\n",
    "    elif byte == 0x82:\n",
    "        size = buffer[2]\n",
    "        print(\"text message, length=%d\" % size)\n",
    "        sender = buffer[3:11].decode(encoding='utf-8')\n",
    "        text = buffer[11:size+3].decode(encoding='utf-8')\n",
    "        rsi = buffer[size+3]\n",
    "        print(sender, text)\n",
    "        text_msg_list.append([sender, text, rsi])\n",
    "        next_index = 3 + size + 1\n",
    "    else:\n",
    "        # unknown message type\n",
    "        next_index = 1\n",
    "    # remove the handled bytes from the buffer\n",
    "    buffer = buffer[next_index:]\n",
    "    "
   ]
  },
  {
   "cell_type": "code",
   "execution_count": 92,
   "metadata": {},
   "outputs": [
    {
     "data": {
      "text/html": [
       "<div>\n",
       "<style scoped>\n",
       "    .dataframe tbody tr th:only-of-type {\n",
       "        vertical-align: middle;\n",
       "    }\n",
       "\n",
       "    .dataframe tbody tr th {\n",
       "        vertical-align: top;\n",
       "    }\n",
       "\n",
       "    .dataframe thead th {\n",
       "        text-align: right;\n",
       "    }\n",
       "</style>\n",
       "<table border=\"1\" class=\"dataframe\">\n",
       "  <thead>\n",
       "    <tr style=\"text-align: right;\">\n",
       "      <th></th>\n",
       "      <th>sender</th>\n",
       "      <th>level</th>\n",
       "      <th>time</th>\n",
       "      <th>text</th>\n",
       "      <th>RSI</th>\n",
       "    </tr>\n",
       "  </thead>\n",
       "  <tbody>\n",
       "    <tr>\n",
       "      <th>0</th>\n",
       "      <td>SYSTEM</td>\n",
       "      <td>5</td>\n",
       "      <td>0</td>\n",
       "      <td>Teensy Flight Controller - Version 1.0</td>\n",
       "      <td>253</td>\n",
       "    </tr>\n",
       "    <tr>\n",
       "      <th>1</th>\n",
       "      <td>USB_1</td>\n",
       "      <td>5</td>\n",
       "      <td>0</td>\n",
       "      <td>up and running.</td>\n",
       "      <td>253</td>\n",
       "    </tr>\n",
       "    <tr>\n",
       "      <th>2</th>\n",
       "      <td>SYSTEM</td>\n",
       "      <td>5</td>\n",
       "      <td>0</td>\n",
       "      <td>build complete.</td>\n",
       "      <td>253</td>\n",
       "    </tr>\n",
       "    <tr>\n",
       "      <th>3</th>\n",
       "      <td>SYSTEM</td>\n",
       "      <td>5</td>\n",
       "      <td>0</td>\n",
       "      <td>entering event loop.</td>\n",
       "      <td>253</td>\n",
       "    </tr>\n",
       "    <tr>\n",
       "      <th>4</th>\n",
       "      <td>GPS_1</td>\n",
       "      <td>5</td>\n",
       "      <td>401</td>\n",
       "      <td>up and running.</td>\n",
       "      <td>253</td>\n",
       "    </tr>\n",
       "    <tr>\n",
       "      <th>5</th>\n",
       "      <td>SYSTEM</td>\n",
       "      <td>3</td>\n",
       "      <td>401</td>\n",
       "      <td>systick overrun !</td>\n",
       "      <td>253</td>\n",
       "    </tr>\n",
       "    <tr>\n",
       "      <th>6</th>\n",
       "      <td>DISPLAY</td>\n",
       "      <td>10</td>\n",
       "      <td>1416</td>\n",
       "      <td>initialized.</td>\n",
       "      <td>253</td>\n",
       "    </tr>\n",
       "    <tr>\n",
       "      <th>7</th>\n",
       "      <td>SYSTEM</td>\n",
       "      <td>3</td>\n",
       "      <td>1416</td>\n",
       "      <td>systick overrun !</td>\n",
       "      <td>253</td>\n",
       "    </tr>\n",
       "    <tr>\n",
       "      <th>8</th>\n",
       "      <td>GPS_1</td>\n",
       "      <td>10</td>\n",
       "      <td>5001</td>\n",
       "      <td>acquired lock.</td>\n",
       "      <td>253</td>\n",
       "    </tr>\n",
       "  </tbody>\n",
       "</table>\n",
       "</div>"
      ],
      "text/plain": [
       "     sender  level  time                                    text  RSI\n",
       "0  SYSTEM        5     0  Teensy Flight Controller - Version 1.0  253\n",
       "1  USB_1         5     0                         up and running.  253\n",
       "2  SYSTEM        5     0                         build complete.  253\n",
       "3  SYSTEM        5     0                    entering event loop.  253\n",
       "4  GPS_1         5   401                         up and running.  253\n",
       "5  SYSTEM        3   401                       systick overrun !  253\n",
       "6  DISPLAY      10  1416                            initialized.  253\n",
       "7  SYSTEM        3  1416                       systick overrun !  253\n",
       "8  GPS_1        10  5001                          acquired lock.  253"
      ]
     },
     "execution_count": 92,
     "metadata": {},
     "output_type": "execute_result"
    }
   ],
   "source": [
    "df = pd.DataFrame(sys_msg_list, columns = ['sender', 'level', 'time', 'text', 'RSI'])\n",
    "df"
   ]
  },
  {
   "cell_type": "code",
   "execution_count": 90,
   "metadata": {},
   "outputs": [
    {
     "data": {
      "text/html": [
       "<div>\n",
       "<style scoped>\n",
       "    .dataframe tbody tr th:only-of-type {\n",
       "        vertical-align: middle;\n",
       "    }\n",
       "\n",
       "    .dataframe tbody tr th {\n",
       "        vertical-align: top;\n",
       "    }\n",
       "\n",
       "    .dataframe thead th {\n",
       "        text-align: right;\n",
       "    }\n",
       "</style>\n",
       "<table border=\"1\" class=\"dataframe\">\n",
       "  <thead>\n",
       "    <tr style=\"text-align: right;\">\n",
       "      <th></th>\n",
       "      <th>sender</th>\n",
       "      <th>text</th>\n",
       "      <th>RSI</th>\n",
       "    </tr>\n",
       "  </thead>\n",
       "  <tbody>\n",
       "    <tr>\n",
       "      <th>0</th>\n",
       "      <td>GPS_1</td>\n",
       "      <td></td>\n",
       "      <td>252</td>\n",
       "    </tr>\n",
       "    <tr>\n",
       "      <th>1</th>\n",
       "      <td>GPS_1</td>\n",
       "      <td></td>\n",
       "      <td>252</td>\n",
       "    </tr>\n",
       "  </tbody>\n",
       "</table>\n",
       "</div>"
      ],
      "text/plain": [
       "     sender text  RSI\n",
       "0  GPS_1          252\n",
       "1  GPS_1          252"
      ]
     },
     "execution_count": 90,
     "metadata": {},
     "output_type": "execute_result"
    }
   ],
   "source": [
    "df = pd.DataFrame(text_msg_list, columns = ['sender', 'text', 'RSI'])\n",
    "df"
   ]
  },
  {
   "cell_type": "code",
   "execution_count": null,
   "metadata": {},
   "outputs": [],
   "source": []
  }
 ],
 "metadata": {
  "kernelspec": {
   "display_name": "Python 3",
   "language": "python",
   "name": "python3"
  },
  "language_info": {
   "codemirror_mode": {
    "name": "ipython",
    "version": 3
   },
   "file_extension": ".py",
   "mimetype": "text/x-python",
   "name": "python",
   "nbconvert_exporter": "python",
   "pygments_lexer": "ipython3",
   "version": "3.7.3"
  }
 },
 "nbformat": 4,
 "nbformat_minor": 4
}
