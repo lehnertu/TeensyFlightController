{
 "cells": [
  {
   "cell_type": "code",
   "execution_count": 8,
   "metadata": {},
   "outputs": [
    {
     "name": "stdout",
     "output_type": "stream",
     "text": [
      "Bus 004 Device 001: ID 1d6b:0003 Linux Foundation 3.0 root hub\r\n",
      "Bus 003 Device 002: ID 1395:0025 Sennheiser Communications Headset [PC 8]\r\n",
      "Bus 003 Device 001: ID 1d6b:0002 Linux Foundation 2.0 root hub\r\n",
      "Bus 002 Device 001: ID 1d6b:0003 Linux Foundation 3.0 root hub\r\n",
      "Bus 001 Device 003: ID 04d9:1603 Holtek Semiconductor, Inc. Keyboard\r\n",
      "Bus 001 Device 002: ID 413c:301a Dell Computer Corp. Dell MS116 USB Optical Mouse\r\n",
      "Bus 001 Device 005: ID 067b:2303 Prolific Technology, Inc. PL2303 Serial Port\r\n",
      "Bus 001 Device 001: ID 1d6b:0002 Linux Foundation 2.0 root hub\r\n"
     ]
    }
   ],
   "source": [
    "!lsusb"
   ]
  },
  {
   "cell_type": "code",
   "execution_count": 2,
   "metadata": {},
   "outputs": [
    {
     "name": "stdout",
     "output_type": "stream",
     "text": [
      "crw-rw-rw- 1 root dialout 188, 0 Mär  2 11:56 /dev/ttyUSB0\r\n"
     ]
    }
   ],
   "source": [
    "!ls -l /dev/ttyUSB*"
   ]
  },
  {
   "cell_type": "code",
   "execution_count": 24,
   "metadata": {},
   "outputs": [
    {
     "name": "stdout",
     "output_type": "stream",
     "text": [
      "SUBSYSTEMS==\"usb\", ATTRS{idVendor}==\"067b\", ATTRS{idProduct}==\"2303\", MODE:=\"0666\"\r\n"
     ]
    }
   ],
   "source": [
    "!cat /etc/udev/rules.d/55-usb_serial.rules"
   ]
  },
  {
   "cell_type": "code",
   "execution_count": 3,
   "metadata": {},
   "outputs": [],
   "source": [
    "import serial"
   ]
  },
  {
   "cell_type": "markdown",
   "metadata": {},
   "source": [
    "## read the configuration registers"
   ]
  },
  {
   "cell_type": "code",
   "execution_count": 11,
   "metadata": {},
   "outputs": [
    {
     "name": "stdout",
     "output_type": "stream",
     "text": [
      "/dev/ttyUSB0\n",
      "0.5\n",
      "c1:00:05:00:00:64:00:12\n"
     ]
    }
   ],
   "source": [
    "ser = serial.Serial('/dev/ttyUSB0',timeout=0.5)  # open serial port\n",
    "print(ser.name)         # check which port was really used\n",
    "print(ser.timeout)\n",
    "ser.write(b'\\xC1\\x00\\x05')     # write a string\n",
    "# read the response\n",
    "response = ser.read(size=10)\n",
    "print(response.hex(':'))\n",
    "ser.close()             # close port"
   ]
  },
  {
   "cell_type": "markdown",
   "metadata": {},
   "source": [
    "## write the configuration (persistent)"
   ]
  },
  {
   "cell_type": "code",
   "execution_count": 10,
   "metadata": {},
   "outputs": [
    {
     "name": "stdout",
     "output_type": "stream",
     "text": [
      "/dev/ttyUSB0\n",
      "0.5\n",
      "c1:00:05:00:00:64:00:12\n"
     ]
    }
   ],
   "source": [
    "ser = serial.Serial('/dev/ttyUSB0',timeout=0.5)  # open serial port\n",
    "print(ser.name)         # check which port was really used\n",
    "print(ser.timeout)\n",
    "# address = 00 00\n",
    "# mode = 64 : 9600,8N1 air9.6k\n",
    "# reg1 = 00\n",
    "# freq = 12 : ch18=868.125 MHz\n",
    "ser.write(b'\\xC0\\x00\\x05\\x00\\x00\\x64\\x00\\x12')     # command\n",
    "# read the response\n",
    "response = ser.read(size=10)\n",
    "print(response.hex(':'))\n",
    "ser.close()             # close port"
   ]
  },
  {
   "cell_type": "markdown",
   "metadata": {},
   "source": [
    "## write to one module, read from the other\n",
    "(pull M0,M1 low for normal transmission mode)"
   ]
  },
  {
   "cell_type": "code",
   "execution_count": 18,
   "metadata": {},
   "outputs": [
    {
     "name": "stdout",
     "output_type": "stream",
     "text": [
      "/dev/ttyUSB0\n",
      "0.5\n",
      "68:65:6c:6c:6f:21\n",
      "b'hello!'\n"
     ]
    }
   ],
   "source": [
    "ser = serial.Serial('/dev/ttyUSB0',timeout=0.5)  # open serial port\n",
    "print(ser.name)         # check which port was really used\n",
    "print(ser.timeout)\n",
    "ser.write(b'hello!')     # write a string\n",
    "# read the response\n",
    "response = ser.read(size=10)\n",
    "print(response.hex(':'))\n",
    "print(response)\n",
    "ser.close()   "
   ]
  },
  {
   "cell_type": "code",
   "execution_count": null,
   "metadata": {},
   "outputs": [],
   "source": []
  }
 ],
 "metadata": {
  "kernelspec": {
   "display_name": "Python 3",
   "language": "python",
   "name": "python3"
  },
  "language_info": {
   "codemirror_mode": {
    "name": "ipython",
    "version": 3
   },
   "file_extension": ".py",
   "mimetype": "text/x-python",
   "name": "python",
   "nbconvert_exporter": "python",
   "pygments_lexer": "ipython3",
   "version": "3.8.10"
  }
 },
 "nbformat": 4,
 "nbformat_minor": 4
}
